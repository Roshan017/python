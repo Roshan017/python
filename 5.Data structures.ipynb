{
  "nbformat": 4,
  "nbformat_minor": 0,
  "metadata": {
    "colab": {
      "name": "Python Quick Start.ipynb",
      "provenance": [],
      "collapsed_sections": []
    },
    "kernelspec": {
      "display_name": "Python 3",
      "language": "python",
      "name": "python3"
    },
    "language_info": {
      "codemirror_mode": {
        "name": "ipython",
        "version": 3
      },
      "file_extension": ".py",
      "mimetype": "text/x-python",
      "name": "python",
      "nbconvert_exporter": "python",
      "pygments_lexer": "ipython3",
      "version": "3.6.8"
    }
  },
  "cells": [
    {
      "cell_type": "markdown",
      "metadata": {
        "colab_type": "text",
        "id": "MiNZ8-THMGaQ"
      },
      "source": [
        "## Data Structures\n",
        "\n",
        "### Lists\n",
        "\n",
        "Lists contain any number of ordered values."
      ]
    },
    {
      "cell_type": "code",
      "metadata": {
        "colab_type": "code",
        "id": "n6zfxlBYQwqc",
        "colab": {
          "base_uri": "https://localhost:8080/",
          "height": 34
        },
        "outputId": "e0fcb75d-9041-475e-c4b1-6bb50ed76f68"
      },
      "source": [
        "[1, 2, 3]"
      ],
      "execution_count": 1,
      "outputs": [
        {
          "output_type": "execute_result",
          "data": {
            "text/plain": [
              "[1, 2, 3]"
            ]
          },
          "metadata": {
            "tags": []
          },
          "execution_count": 1
        }
      ]
    },
    {
      "cell_type": "code",
      "metadata": {
        "colab_type": "code",
        "id": "wgIvI40zQ2iJ",
        "colab": {
          "base_uri": "https://localhost:8080/",
          "height": 34
        },
        "outputId": "2f12d28a-0f5e-463a-a098-beb18e1a2bf1"
      },
      "source": [
        "a = [1, 2, 3]\n",
        "len(a)"
      ],
      "execution_count": 2,
      "outputs": [
        {
          "output_type": "execute_result",
          "data": {
            "text/plain": [
              "3"
            ]
          },
          "metadata": {
            "tags": []
          },
          "execution_count": 2
        }
      ]
    },
    {
      "cell_type": "code",
      "metadata": {
        "id": "nu7PD1YuFEst",
        "colab_type": "code",
        "colab": {
          "base_uri": "https://localhost:8080/",
          "height": 68
        },
        "outputId": "2556c813-9f40-43de-fc8f-edb808d3aac6"
      },
      "source": [
        "# Iterate through a list\n",
        "\n",
        "for value in a:\n",
        "    print('Value is %d' % value)"
      ],
      "execution_count": 3,
      "outputs": [
        {
          "output_type": "stream",
          "text": [
            "Value is 1\n",
            "Value is 2\n",
            "Value is 3\n"
          ],
          "name": "stdout"
        }
      ]
    },
    {
      "cell_type": "code",
      "metadata": {
        "id": "l0t2TVjnFEs0",
        "colab_type": "code",
        "colab": {
          "base_uri": "https://localhost:8080/",
          "height": 34
        },
        "outputId": "6da9745f-c225-4317-a063-72a1a3419ebb"
      },
      "source": [
        "a = [1, 2, 3]\n",
        "a.append(4)\n",
        "a"
      ],
      "execution_count": 4,
      "outputs": [
        {
          "output_type": "execute_result",
          "data": {
            "text/plain": [
              "[1, 2, 3, 4]"
            ]
          },
          "metadata": {
            "tags": []
          },
          "execution_count": 4
        }
      ]
    },
    {
      "cell_type": "code",
      "metadata": {
        "colab_type": "code",
        "id": "33i5smW9HadB",
        "colab": {
          "base_uri": "https://localhost:8080/",
          "height": 34
        },
        "outputId": "e84b62c1-3fd2-475f-82be-cd5948d96d37"
      },
      "source": [
        "# Add two lists\n",
        "\n",
        "a = [1, 2, 3]\n",
        "b = [7, 8, 9]\n",
        "\n",
        "a+b"
      ],
      "execution_count": 5,
      "outputs": [
        {
          "output_type": "execute_result",
          "data": {
            "text/plain": [
              "[1, 2, 3, 7, 8, 9]"
            ]
          },
          "metadata": {
            "tags": []
          },
          "execution_count": 5
        }
      ]
    },
    {
      "cell_type": "code",
      "metadata": {
        "colab_type": "code",
        "id": "sN4Oe48mHkkw",
        "colab": {
          "base_uri": "https://localhost:8080/",
          "height": 34
        },
        "outputId": "895718b6-0bf4-436e-975c-9ff266879a2b"
      },
      "source": [
        "# List comprehension\n",
        "\n",
        "a = [2*i for i in range(10)]\n",
        "a"
      ],
      "execution_count": 6,
      "outputs": [
        {
          "output_type": "execute_result",
          "data": {
            "text/plain": [
              "[0, 2, 4, 6, 8, 10, 12, 14, 16, 18]"
            ]
          },
          "metadata": {
            "tags": []
          },
          "execution_count": 6
        }
      ]
    },
    {
      "cell_type": "code",
      "metadata": {
        "colab_type": "code",
        "id": "4C1d30LxHsK4",
        "colab": {
          "base_uri": "https://localhost:8080/",
          "height": 34
        },
        "outputId": "9e2e85c3-53b6-46dc-c208-daf01dd9f546"
      },
      "source": [
        "# Reverse a list\n",
        "\n",
        "a = [2*i for i in range(10)]\n",
        "a.reverse()\n",
        "a"
      ],
      "execution_count": 7,
      "outputs": [
        {
          "output_type": "execute_result",
          "data": {
            "text/plain": [
              "[18, 16, 14, 12, 10, 8, 6, 4, 2, 0]"
            ]
          },
          "metadata": {
            "tags": []
          },
          "execution_count": 7
        }
      ]
    },
    {
      "cell_type": "code",
      "metadata": {
        "colab_type": "code",
        "id": "SSERRxx8Ic4c",
        "colab": {
          "base_uri": "https://localhost:8080/",
          "height": 34
        },
        "outputId": "dcbf76a3-2344-47fc-9150-5ed193a1f4d7"
      },
      "source": [
        "a.sort()\n",
        "a"
      ],
      "execution_count": 8,
      "outputs": [
        {
          "output_type": "execute_result",
          "data": {
            "text/plain": [
              "[0, 2, 4, 6, 8, 10, 12, 14, 16, 18]"
            ]
          },
          "metadata": {
            "tags": []
          },
          "execution_count": 8
        }
      ]
    },
    {
      "cell_type": "markdown",
      "metadata": {
        "id": "i7suQy0WFEtX",
        "colab_type": "text"
      },
      "source": [
        "### Dictionaries\n",
        "\n",
        "Dictionaries contain key-value pairs. Similar to Java HashMap."
      ]
    },
    {
      "cell_type": "code",
      "metadata": {
        "id": "ty1a7eD3FEtY",
        "colab_type": "code",
        "colab": {
          "base_uri": "https://localhost:8080/",
          "height": 85
        },
        "outputId": "8e46a9d2-9f0d-4278-d878-e183fdbc51e0"
      },
      "source": [
        "band = { 'David St. Hubbins':'Rhythm Guitar', 'Nigel Tufnel':'Lead Guitar', 'Derek Smalls':'Bass', 'Drums':'Unknown' }\n",
        "band"
      ],
      "execution_count": 9,
      "outputs": [
        {
          "output_type": "execute_result",
          "data": {
            "text/plain": [
              "{'David St. Hubbins': 'Rhythm Guitar',\n",
              " 'Derek Smalls': 'Bass',\n",
              " 'Drums': 'Unknown',\n",
              " 'Nigel Tufnel': 'Lead Guitar'}"
            ]
          },
          "metadata": {
            "tags": []
          },
          "execution_count": 9
        }
      ]
    },
    {
      "cell_type": "code",
      "metadata": {
        "id": "Y2pZfrEOFEtd",
        "colab_type": "code",
        "colab": {
          "base_uri": "https://localhost:8080/",
          "height": 85
        },
        "outputId": "a7b24981-1c4b-471f-fda9-f8dcfe9961d7"
      },
      "source": [
        "for name in band:\n",
        "    print('Name: %s, instrument: %s' % (name, band[name]))"
      ],
      "execution_count": 10,
      "outputs": [
        {
          "output_type": "stream",
          "text": [
            "Name: David St. Hubbins, instrument: Rhythm Guitar\n",
            "Name: Nigel Tufnel, instrument: Lead Guitar\n",
            "Name: Derek Smalls, instrument: Bass\n",
            "Name: Drums, instrument: Unknown\n"
          ],
          "name": "stdout"
        }
      ]
    },
    {
      "cell_type": "code",
      "metadata": {
        "id": "qKM4vhHIFEtk",
        "colab_type": "code",
        "colab": {
          "base_uri": "https://localhost:8080/",
          "height": 85
        },
        "outputId": "04214ee9-6319-4a3a-cb41-8b073408ab46"
      },
      "source": [
        "for name, instrument in band.items():\n",
        "    print('Name: %s, instrument: %s' % (name, instrument))"
      ],
      "execution_count": 11,
      "outputs": [
        {
          "output_type": "stream",
          "text": [
            "Name: David St. Hubbins, instrument: Rhythm Guitar\n",
            "Name: Nigel Tufnel, instrument: Lead Guitar\n",
            "Name: Derek Smalls, instrument: Bass\n",
            "Name: Drums, instrument: Unknown\n"
          ],
          "name": "stdout"
        }
      ]
    },
    {
      "cell_type": "code",
      "metadata": {
        "id": "Bu-FIZEOFEts",
        "colab_type": "code",
        "colab": {
          "base_uri": "https://localhost:8080/",
          "height": 85
        },
        "outputId": "55b8029e-cc96-4db7-e274-c13ba2fd26e2"
      },
      "source": [
        "band['Drums'] = 'John \"Stumpy\" Pepys'\n",
        "\n",
        "for name in band:\n",
        "    print('Name: %s, instrument: %s' % (name, band[name]))"
      ],
      "execution_count": 12,
      "outputs": [
        {
          "output_type": "stream",
          "text": [
            "Name: David St. Hubbins, instrument: Rhythm Guitar\n",
            "Name: Nigel Tufnel, instrument: Lead Guitar\n",
            "Name: Derek Smalls, instrument: Bass\n",
            "Name: Drums, instrument: John \"Stumpy\" Pepys\n"
          ],
          "name": "stdout"
        }
      ]
    }
  ]
}
