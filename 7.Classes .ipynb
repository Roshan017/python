{
  "nbformat": 4,
  "nbformat_minor": 0,
  "metadata": {
    "colab": {
      "name": "Python Quick Start.ipynb",
      "provenance": [],
      "collapsed_sections": []
    },
    "kernelspec": {
      "display_name": "Python 3",
      "language": "python",
      "name": "python3"
    },
    "language_info": {
      "codemirror_mode": {
        "name": "ipython",
        "version": 3
      },
      "file_extension": ".py",
      "mimetype": "text/x-python",
      "name": "python",
      "nbconvert_exporter": "python",
      "pygments_lexer": "ipython3",
      "version": "3.6.8"
    }
  },
  "cells": [
    {
      "cell_type": "markdown",
      "metadata": {
        "colab_type": "text",
        "id": "6D7CKgOPQSzF"
      },
      "source": [
        "## Classes\n",
        "\n",
        "Use the class keyword to define classses."
      ]
    },
    {
      "cell_type": "code",
      "metadata": {
        "colab_type": "code",
        "id": "9ztIx4IjKqvW",
        "colab": {}
      },
      "source": [
        "class BankAccount(object):\n",
        "  def __init__(self, accountNumber, initialBalance, interestRate):\n",
        "    self.accountNumber = accountNumber\n",
        "    self.balance = initialBalance\n",
        "    self.interestRate = interestRate\n",
        "  \n",
        "  def deposit(self, amount):\n",
        "    self.balance += amount\n",
        "  \n",
        "  def withdraw(self, amount):\n",
        "    if self.balance >= amount:\n",
        "      self.balance -= amount\n",
        "      return amount\n",
        "    raise Exception('Insufficient balance for withdrawal: only %.2f in account %d' % (self.balance, self.accountNumber))\n",
        "  \n",
        "  def addInterest(self):\n",
        "    self.balance *= 1.0 + self.interestRate/100.0\n",
        "  \n",
        "  def transferTo(self, otherAccount, amount):\n",
        "    otherAccount.deposit(self.withdraw(amount))\n",
        "  \n",
        "  def __str__(self):\n",
        "    return 'Account %d, balance: %.2f' % (self.accountNumber, self.balance)"
      ],
      "execution_count": null,
      "outputs": []
    },
    {
      "cell_type": "code",
      "metadata": {
        "colab_type": "code",
        "id": "RR7vPMAtDh-7",
        "colab": {}
      },
      "source": [
        "checking = BankAccount(101, 100.0, 1.0)\n",
        "savings = BankAccount(201, 1000.0, 5.0)\n",
        "\n",
        "print(checking)\n",
        "print(savings)\n",
        "checking.addInterest()\n",
        "savings.addInterest()\n",
        "\n",
        "savings.transferTo(checking, 500)\n",
        "\n",
        "print(checking)\n",
        "print(savings)\n",
        "\n",
        "# savings.transferTo(checking, 1000)"
      ],
      "execution_count": null,
      "outputs": []
    }
  ]
}
