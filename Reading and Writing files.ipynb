{
  "nbformat": 4,
  "nbformat_minor": 0,
  "metadata": {
    "colab": {
      "name": "Python Quick Start.ipynb",
      "provenance": [],
      "collapsed_sections": []
    },
    "kernelspec": {
      "display_name": "Python 3",
      "language": "python",
      "name": "python3"
    },
    "language_info": {
      "codemirror_mode": {
        "name": "ipython",
        "version": 3
      },
      "file_extension": ".py",
      "mimetype": "text/x-python",
      "name": "python",
      "nbconvert_exporter": "python",
      "pygments_lexer": "ipython3",
      "version": "3.6.8"
    }
  },
  "cells": [
    {
      "cell_type": "markdown",
      "metadata": {
        "colab_type": "text",
        "id": "URDoWEMQJEdg"
      },
      "source": [
        "## Reading and Writing files"
      ]
    },
    {
      "cell_type": "code",
      "metadata": {
        "colab_type": "code",
        "id": "A_v0ZAX6JIwf",
        "colab": {}
      },
      "source": [
        "# Write a file, 'w' opens a file for writing, 'a' appends to an existing file\n",
        "\n",
        "with open('somefile.txt', 'w') as f:\n",
        "  f.write('First line\\n')\n",
        "  f.write('Second line\\n')"
      ],
      "execution_count": 19,
      "outputs": []
    },
    {
      "cell_type": "code",
      "metadata": {
        "colab_type": "code",
        "id": "jx3mqmASJt_X",
        "colab": {
          "base_uri": "https://localhost:8080/",
          "height": 34
        },
        "outputId": "fa41338d-3b18-4ba6-fcd6-8c5c4475a651"
      },
      "source": [
        "# strip() removes the trailing \\n\n",
        "\n",
        "with open('somefile.txt') as f:\n",
        "  print(f.readline().strip())"
      ],
      "execution_count": 20,
      "outputs": [
        {
          "output_type": "stream",
          "text": [
            "First line\n"
          ],
          "name": "stdout"
        }
      ]
    },
    {
      "cell_type": "code",
      "metadata": {
        "colab_type": "code",
        "id": "k2lTneQUKRfD",
        "colab": {
          "base_uri": "https://localhost:8080/",
          "height": 34
        },
        "outputId": "234cab32-b52e-40ed-8c07-03d1ca368f2f"
      },
      "source": [
        "with open('somefile.txt') as f:\n",
        "  print(f.readlines())"
      ],
      "execution_count": 21,
      "outputs": [
        {
          "output_type": "stream",
          "text": [
            "['First line\\n', 'Second line\\n']\n"
          ],
          "name": "stdout"
        }
      ]
    }
  ]
}