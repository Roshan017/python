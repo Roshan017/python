{
  "nbformat": 4,
  "nbformat_minor": 0,
  "metadata": {
    "colab": {
      "name": "Python Quick Start.ipynb",
      "provenance": [],
      "collapsed_sections": []
    },
    "kernelspec": {
      "display_name": "Python 3",
      "language": "python",
      "name": "python3"
    },
    "language_info": {
      "codemirror_mode": {
        "name": "ipython",
        "version": 3
      },
      "file_extension": ".py",
      "mimetype": "text/x-python",
      "name": "python",
      "nbconvert_exporter": "python",
      "pygments_lexer": "ipython3",
      "version": "3.6.8"
    }
  },
  "cells": [
    {
      "cell_type": "markdown",
      "metadata": {
        "id": "VpMNg3G5D7Vi",
        "colab_type": "text"
      },
      "source": [
        "## Flow Control\n",
        "\n",
        "Spaces or tabs are used to group statements together. Unlike many languages today, whitespace is significant in Python."
      ]
    },
    {
      "cell_type": "code",
      "metadata": {
        "id": "acHLfVSKD7Vk",
        "colab_type": "code",
        "colab": {}
      },
      "source": [
        "for i in range(5):\n",
        "    print('%d, squared: %d' % (i, i*i))"
      ],
      "execution_count": null,
      "outputs": []
    },
    {
      "cell_type": "code",
      "metadata": {
        "id": "eKtyl2BaD7Vs",
        "colab_type": "code",
        "colab": {}
      },
      "source": [
        "i = 0\n",
        "while i < 5:\n",
        "    print('%d, squared: %d' % (i, i*i))\n",
        "    i = i + 1"
      ],
      "execution_count": null,
      "outputs": []
    },
    {
      "cell_type": "code",
      "metadata": {
        "id": "_jVWHjaWD7Vx",
        "colab_type": "code",
        "colab": {}
      },
      "source": [
        "for i in range(1, 10):\n",
        "    if i % 2 == 0:\n",
        "        print('%d is divisible by two' % (i))\n",
        "    elif i % 3 == 0:\n",
        "        print('%d is divisible by three' % (i))\n",
        "    else:\n",
        "        print('%d is not divisible by two or three' % (i))"
      ],
      "execution_count": null,
      "outputs": []
    }
  ]
}