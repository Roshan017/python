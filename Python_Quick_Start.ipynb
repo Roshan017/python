{
  "nbformat": 4,
  "nbformat_minor": 0,
  "metadata": {
    "colab": {
      "name": "Python Quick Start.ipynb",
      "provenance": [],
      "collapsed_sections": []
    },
    "kernelspec": {
      "display_name": "Python 3",
      "language": "python",
      "name": "python3"
    },
    "language_info": {
      "codemirror_mode": {
        "name": "ipython",
        "version": 3
      },
      "file_extension": ".py",
      "mimetype": "text/x-python",
      "name": "python",
      "nbconvert_exporter": "python",
      "pygments_lexer": "ipython3",
      "version": "3.6.8"
    }
  },
  "cells": [
    {
      "cell_type": "markdown",
      "metadata": {
        "colab_type": "text",
        "id": "2EQ3aMz5KrjT"
      },
      "source": [
        "# Python Quick Start\n",
        "\n",
        "Python is a popular programming language used for many applications. Interestingly, it is widely used for machine learning. This is due in part to it's simple syntax, interactive nature, and numerous machine learning libraries. It's easy to quickly test things out, which is important during data analysis or model development.\n",
        "\n",
        "We will focus on Python 3 here."
      ]
    },
    {
      "cell_type": "markdown",
      "metadata": {
        "colab_type": "text",
        "id": "HHHYgpbFL4-N"
      },
      "source": [
        "## Basic Syntax\n",
        "\n",
        "[Data types](https://docs.python.org/3.4/reference/datamodel.html), [operators](https://docs.python.org/3.4/library/operator.html), and variables. Python is interactive, so we can try things out by just entering code and running it in this notebook."
      ]
    },
    {
      "cell_type": "code",
      "metadata": {
        "colab_type": "code",
        "id": "e8wn727POHDT",
        "colab": {
          "base_uri": "https://localhost:8080/",
          "height": 34
        },
        "outputId": "f08fd420-d2f8-4df9-b6fe-3f2115b506dc"
      },
      "source": [
        "# Numbers, e.g. int, float, bool, complex\n",
        "\n",
        "11"
      ],
      "execution_count": 19,
      "outputs": [
        {
          "output_type": "execute_result",
          "data": {
            "text/plain": [
              "11"
            ]
          },
          "metadata": {
            "tags": []
          },
          "execution_count": 19
        }
      ]
    },
    {
      "cell_type": "code",
      "metadata": {
        "colab_type": "code",
        "id": "RPm4AG4kbEw0",
        "colab": {
          "base_uri": "https://localhost:8080/",
          "height": 34
        },
        "outputId": "7eac2882-0c39-46fb-d6c0-eba7c557fd72"
      },
      "source": [
        "3.1415926535897"
      ],
      "execution_count": 20,
      "outputs": [
        {
          "output_type": "execute_result",
          "data": {
            "text/plain": [
              "3.1415926535897"
            ]
          },
          "metadata": {
            "tags": []
          },
          "execution_count": 20
        }
      ]
    },
    {
      "cell_type": "code",
      "metadata": {
        "colab_type": "code",
        "id": "bE7teAo0bIPE",
        "colab": {
          "base_uri": "https://localhost:8080/",
          "height": 34
        },
        "outputId": "04b38221-879e-483e-be28-4513763a73b2"
      },
      "source": [
        "True"
      ],
      "execution_count": 21,
      "outputs": [
        {
          "output_type": "execute_result",
          "data": {
            "text/plain": [
              "True"
            ]
          },
          "metadata": {
            "tags": []
          },
          "execution_count": 21
        }
      ]
    },
    {
      "cell_type": "code",
      "metadata": {
        "colab_type": "code",
        "id": "qGOImoA2bKHa",
        "colab": {
          "base_uri": "https://localhost:8080/",
          "height": 34
        },
        "outputId": "3c77e9af-4500-4220-f46d-824334d83af8"
      },
      "source": [
        "# Complex or imaginary numbers\n",
        "\n",
        "1+2j"
      ],
      "execution_count": 18,
      "outputs": [
        {
          "output_type": "execute_result",
          "data": {
            "text/plain": [
              "(1+2j)"
            ]
          },
          "metadata": {
            "tags": []
          },
          "execution_count": 18
        }
      ]
    },
    {
      "cell_type": "code",
      "metadata": {
        "colab_type": "code",
        "id": "IzEjfhsSG5MP",
        "colab": {}
      },
      "source": [
        "# None is similar to null on other languages\n",
        "\n",
        "a = None\n",
        "print(a)"
      ],
      "execution_count": null,
      "outputs": []
    },
    {
      "cell_type": "code",
      "metadata": {
        "colab_type": "code",
        "id": "3bGPFjxJUjla",
        "colab": {}
      },
      "source": [
        "# type() can tell us the type of a variable\n",
        "\n",
        "a = 12.0\n",
        "type(a)"
      ],
      "execution_count": null,
      "outputs": []
    },
    {
      "cell_type": "code",
      "metadata": {
        "colab_type": "code",
        "id": "6J9HxRECRiDi",
        "colab": {}
      },
      "source": [
        "# Strings can be defined with single or double quotes\n",
        "\n",
        "'This is a string'"
      ],
      "execution_count": null,
      "outputs": []
    },
    {
      "cell_type": "code",
      "metadata": {
        "colab_type": "code",
        "id": "6iel--V5Rod7",
        "colab": {}
      },
      "source": [
        "\"This is also a string\""
      ],
      "execution_count": null,
      "outputs": []
    },
    {
      "cell_type": "code",
      "metadata": {
        "colab_type": "code",
        "id": "DkCP-uPTRsO4",
        "colab": {}
      },
      "source": [
        "# Get the length of a string\n",
        "\n",
        "len('some string')"
      ],
      "execution_count": null,
      "outputs": []
    },
    {
      "cell_type": "code",
      "metadata": {
        "colab_type": "code",
        "id": "vGnLAm1OR1L6",
        "colab": {}
      },
      "source": [
        "# Select a character within a string\n",
        "\n",
        "a = 'some string'\n",
        "a[0]"
      ],
      "execution_count": null,
      "outputs": []
    },
    {
      "cell_type": "code",
      "metadata": {
        "colab_type": "code",
        "id": "xKZ3jhLISNzA",
        "colab": {}
      },
      "source": [
        "# Negative indexes select from the end\n",
        "\n",
        "a = 'some string'\n",
        "a[-1]"
      ],
      "execution_count": null,
      "outputs": []
    },
    {
      "cell_type": "code",
      "metadata": {
        "colab_type": "code",
        "id": "Osb-GVD7SBHh",
        "colab": {}
      },
      "source": [
        "# Select a range of characters, uses a left closed, right open interval\n",
        "\n",
        "a = 'some string'\n",
        "a[0:5]"
      ],
      "execution_count": null,
      "outputs": []
    },
    {
      "cell_type": "code",
      "metadata": {
        "colab_type": "code",
        "id": "14ciHg-BSava",
        "colab": {}
      },
      "source": [
        "# Negative index work with ranges also\n",
        "\n",
        "a = 'some string'\n",
        "a[5:-2]"
      ],
      "execution_count": null,
      "outputs": []
    }
  ]
}