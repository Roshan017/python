{
  "nbformat": 4,
  "nbformat_minor": 0,
  "metadata": {
    "colab": {
      "name": "Python Quick Start.ipynb",
      "provenance": [],
      "collapsed_sections": []
    },
    "kernelspec": {
      "display_name": "Python 3",
      "language": "python",
      "name": "python3"
    },
    "language_info": {
      "codemirror_mode": {
        "name": "ipython",
        "version": 3
      },
      "file_extension": ".py",
      "mimetype": "text/x-python",
      "name": "python",
      "nbconvert_exporter": "python",
      "pygments_lexer": "ipython3",
      "version": "3.6.8"
    }
  },
  "cells": [
    {
      "cell_type": "markdown",
      "metadata": {
        "colab_type": "text",
        "id": "Kd3FLpHXaT2N"
      },
      "source": [
        "### String formatting\n",
        "\n",
        "Python supports multiple styles of string formatting:\n",
        "\n",
        "\n",
        "*   [printf](https://docs.python.org/3/library/stdtypes.html#printf-style-string-formatting)\n",
        "*   [format()](https://docs.python.org/3.4/library/string.html#formatspec)\n",
        "\n"
      ]
    },
    {
      "cell_type": "code",
      "metadata": {
        "colab_type": "code",
        "id": "AVtaLbChTXc2",
        "colab": {
          "base_uri": "https://localhost:8080/",
          "height": 35
        },
        "outputId": "8c5a7457-439e-4178-b3a4-be9842b323b0"
      },
      "source": [
        "# printf style formatting\n",
        "\n",
        "answer = 42\n",
        "'The answer to the ultimate question of life, the universe, and everything is %d' % answer"
      ],
      "execution_count": 39,
      "outputs": [
        {
          "output_type": "execute_result",
          "data": {
            "application/vnd.google.colaboratory.intrinsic": {
              "type": "string"
            },
            "text/plain": [
              "'The answer to the ultimate question of life, the universe, and everything is 42'"
            ]
          },
          "metadata": {
            "tags": []
          },
          "execution_count": 39
        }
      ]
    },
    {
      "cell_type": "code",
      "metadata": {
        "id": "HsIvz_Fi91EX",
        "colab_type": "code",
        "colab": {
          "base_uri": "https://localhost:8080/",
          "height": 35
        },
        "outputId": "bc741a1a-8efe-40aa-9949-0797ef619d0e"
      },
      "source": [
        "# multiple values\n",
        "\n",
        "length = 8.0\n",
        "width = 4.0\n",
        "'The dimensions are %.2f feet long and %.2f feet wide' % (length, width)"
      ],
      "execution_count": 40,
      "outputs": [
        {
          "output_type": "execute_result",
          "data": {
            "application/vnd.google.colaboratory.intrinsic": {
              "type": "string"
            },
            "text/plain": [
              "'The dimensions are 8.00 feet long and 4.00 feet wide'"
            ]
          },
          "metadata": {
            "tags": []
          },
          "execution_count": 40
        }
      ]
    },
    {
      "cell_type": "code",
      "metadata": {
        "id": "Xwfh5FeX91Ef",
        "colab_type": "code",
        "colab": {
          "base_uri": "https://localhost:8080/",
          "height": 35
        },
        "outputId": "eefaed38-57a0-452a-a028-47206f07537d"
      },
      "source": [
        "# format(...) method\n",
        "\n",
        "answer = 42\n",
        "'The answer to the ultimate question of life, the universe, and everything is {0:d}'.format(answer)"
      ],
      "execution_count": 41,
      "outputs": [
        {
          "output_type": "execute_result",
          "data": {
            "application/vnd.google.colaboratory.intrinsic": {
              "type": "string"
            },
            "text/plain": [
              "'The answer to the ultimate question of life, the universe, and everything is 42'"
            ]
          },
          "metadata": {
            "tags": []
          },
          "execution_count": 41
        }
      ]
    },
    {
      "cell_type": "code",
      "metadata": {
        "id": "ZqDTt4a091Eq",
        "colab_type": "code",
        "colab": {
          "base_uri": "https://localhost:8080/",
          "height": 35
        },
        "outputId": "bb071c5d-582f-4743-aab8-d9230dfc664c"
      },
      "source": [
        "# named values\n",
        "\n",
        "length = 8.0\n",
        "width = 4.0\n",
        "'The dimensions are {length:.2f} feet long and {width:.2f} feet wide'.format(width=width, length=length)"
      ],
      "execution_count": 42,
      "outputs": [
        {
          "output_type": "execute_result",
          "data": {
            "application/vnd.google.colaboratory.intrinsic": {
              "type": "string"
            },
            "text/plain": [
              "'The dimensions are 8.00 feet long and 4.00 feet wide'"
            ]
          },
          "metadata": {
            "tags": []
          },
          "execution_count": 42
        }
      ]
    }
  ]
}
